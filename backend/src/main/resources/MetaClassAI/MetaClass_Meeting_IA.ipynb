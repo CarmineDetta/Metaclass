{
 "cells": [
  {
   "cell_type": "markdown",
   "metadata": {
    "id": "wa9-aX1TJ6H5"
   },
   "source": [
    "# Regressione lineare multipla"
   ]
  },
  {
   "cell_type": "markdown",
   "metadata": {
    "id": "gDFIyIi7CKVA"
   },
   "source": [
    "## Ottenimento del dataset"
   ]
  },
  {
   "cell_type": "code",
   "execution_count": 8,
   "metadata": {
    "colab": {
     "base_uri": "https://localhost:8080/",
     "height": 1000
    },
    "id": "Zzlg_2rERuaN",
    "outputId": "d0220a7a-2847-415b-d3b4-8f1e7877942f",
    "ExecuteTime": {
     "end_time": "2024-02-18T23:12:04.150893300Z",
     "start_time": "2024-02-18T23:12:03.757314400Z"
    }
   },
   "outputs": [
    {
     "name": "stdout",
     "output_type": "stream",
     "text": [
      "Errore sconosciuto: name 'FILE_NAME' is not defined\n"
     ]
    },
    {
     "name": "stderr",
     "output_type": "stream",
     "text": [
      "C:\\Users\\HP\\AppData\\Local\\Temp\\ipykernel_11980\\926759864.py:8: MatplotlibDeprecationWarning: The seaborn styles shipped by Matplotlib are deprecated since 3.6, as they no longer correspond to the styles shipped by seaborn. However, they will remain available as 'seaborn-v0_8-<style>'. Alternatively, directly use the seaborn API instead.\n",
      "  style.use('seaborn-whitegrid')\n"
     ]
    }
   ],
   "source": [
    "import pandas as pd\n",
    "import os\n",
    "import matplotlib.pyplot as plt\n",
    "from six.moves import urllib\n",
    "import seaborn as sb\n",
    "from matplotlib import style\n",
    "\n",
    "style.use('seaborn-whitegrid')\n",
    "\n",
    "plt.rcParams['figure.figsize'] = (20, 10)\n",
    "\n",
    "# Verifica il contenuto del file\n",
    "try:\n",
    "  df = pd.read_csv(FILE_NAME)\n",
    "  print(\"Contenuto del DataFrame:\")\n",
    "  print(df.head())\n",
    "  # Visualizza l'istogramma\n",
    "  df.hist()\n",
    "  plt.show()\n",
    "except pd.errors.EmptyDataError:\n",
    "  print(\"Il file CSV è vuoto.\")\n",
    "except pd.errors.ParserError:\n",
    "  print(\"Errore di parsing del file CSV.\")\n",
    "except Exception as e:\n",
    "  print(f\"Errore sconosciuto: {e}\")\n"
   ]
  },
  {
   "cell_type": "markdown",
   "metadata": {
    "id": "-dntWE9dCYPs"
   },
   "source": [
    "## 1)DataCleaning"
   ]
  },
  {
   "cell_type": "markdown",
   "metadata": {
    "id": "mqIXZYL0C08D"
   },
   "source": [
    "### 1.1) Descrizione del dataset"
   ]
  },
  {
   "cell_type": "code",
   "execution_count": 9,
   "metadata": {
    "colab": {
     "base_uri": "https://localhost:8080/",
     "height": 301
    },
    "id": "CryQgTtwWQWW",
    "outputId": "cf6e09a4-e015-42ef-b464-7f04cfc99e66",
    "ExecuteTime": {
     "end_time": "2024-02-18T23:12:04.178454200Z",
     "start_time": "2024-02-18T23:12:03.776622800Z"
    }
   },
   "outputs": [
    {
     "ename": "NameError",
     "evalue": "name 'df' is not defined",
     "output_type": "error",
     "traceback": [
      "\u001B[1;31m---------------------------------------------------------------------------\u001B[0m",
      "\u001B[1;31mNameError\u001B[0m                                 Traceback (most recent call last)",
      "Cell \u001B[1;32mIn[9], line 2\u001B[0m\n\u001B[0;32m      1\u001B[0m \u001B[38;5;66;03m#descrizione dataset\u001B[39;00m\n\u001B[1;32m----> 2\u001B[0m df\u001B[38;5;241m.\u001B[39mdescribe()\n",
      "\u001B[1;31mNameError\u001B[0m: name 'df' is not defined"
     ]
    }
   ],
   "source": [
    "#descrizione dataset\n",
    "df.describe()"
   ]
  },
  {
   "cell_type": "markdown",
   "metadata": {
    "id": "Q4BfHP2CCpRn"
   },
   "source": [
    "### 1.2) Verifica valori null nel dataset"
   ]
  },
  {
   "cell_type": "code",
   "execution_count": null,
   "metadata": {
    "colab": {
     "base_uri": "https://localhost:8080/"
    },
    "id": "JUb6KYz3WpKm",
    "outputId": "2188e3d3-1707-42ec-b4e1-a9accf74c5fd",
    "ExecuteTime": {
     "start_time": "2024-02-18T23:12:03.808364500Z"
    }
   },
   "outputs": [],
   "source": [
    "#verifica se ci sono dati null nel dataset\n",
    "df.isnull().any()"
   ]
  },
  {
   "cell_type": "markdown",
   "metadata": {
    "id": "rADiGfTKC4DC"
   },
   "source": [
    "### 1.3) Verifica valori N/A nel dataset"
   ]
  },
  {
   "cell_type": "code",
   "execution_count": null,
   "metadata": {
    "colab": {
     "base_uri": "https://localhost:8080/"
    },
    "id": "qpmcm8s3W1l_",
    "outputId": "638a9a39-e38f-4d27-d2a4-9626d28f983e",
    "ExecuteTime": {
     "start_time": "2024-02-18T23:12:03.813011Z"
    }
   },
   "outputs": [],
   "source": [
    "#verifica se ci sono dati NA nel dataset\n",
    "df.isna().any()"
   ]
  },
  {
   "cell_type": "markdown",
   "metadata": {
    "id": "jl-Y2VujT0fN"
   },
   "source": [
    "###1.4) Data Plot"
   ]
  },
  {
   "cell_type": "code",
   "execution_count": null,
   "metadata": {
    "colab": {
     "base_uri": "https://localhost:8080/",
     "height": 1000
    },
    "id": "hrl7kRUNywol",
    "outputId": "938c23a3-6b1f-44d4-a82d-35336f412291",
    "ExecuteTime": {
     "start_time": "2024-02-18T23:12:03.815908100Z"
    }
   },
   "outputs": [],
   "source": [
    "#data plot visualizzare dipendenze tra variabili\n",
    "sb.pairplot(df)\n",
    "#salvataggio plot\n",
    "plt.savefig('pairplor.png')"
   ]
  },
  {
   "cell_type": "markdown",
   "metadata": {
    "id": "LWkSIJf_Ty89"
   },
   "source": [
    "###1.5) Plot Linearità e Multicollinearità"
   ]
  },
  {
   "cell_type": "code",
   "execution_count": 10,
   "metadata": {
    "colab": {
     "base_uri": "https://localhost:8080/",
     "height": 265
    },
    "id": "Gv4h4OhsT7ex",
    "outputId": "2fc071d6-1fc4-49bc-a4d1-d1e77d232ed3",
    "ExecuteTime": {
     "start_time": "2024-02-18T23:12:03.823477Z"
    }
   },
   "outputs": [
    {
     "ename": "NameError",
     "evalue": "name 'df' is not defined",
     "output_type": "error",
     "traceback": [
      "\u001B[1;31m---------------------------------------------------------------------------\u001B[0m",
      "\u001B[1;31mNameError\u001B[0m                                 Traceback (most recent call last)",
      "Cell \u001B[1;32mIn[10], line 2\u001B[0m\n\u001B[0;32m      1\u001B[0m \u001B[38;5;66;03m#Data plot su un sottoinsieme preso in esame\u001B[39;00m\n\u001B[1;32m----> 2\u001B[0m sb\u001B[38;5;241m.\u001B[39mpairplot(df,x_vars\u001B[38;5;241m=\u001B[39m[\u001B[38;5;124m\"\u001B[39m\u001B[38;5;124mAge\u001B[39m\u001B[38;5;124m\"\u001B[39m,\u001B[38;5;124m\"\u001B[39m\u001B[38;5;124mGender\u001B[39m\u001B[38;5;124m\"\u001B[39m, \u001B[38;5;124m\"\u001B[39m\u001B[38;5;124mMotionSickness\u001B[39m\u001B[38;5;124m\"\u001B[39m, \u001B[38;5;124m\"\u001B[39m\u001B[38;5;124mImmersionLevel\u001B[39m\u001B[38;5;124m\"\u001B[39m], y_vars\u001B[38;5;241m=\u001B[39m[\u001B[38;5;124m\"\u001B[39m\u001B[38;5;124mDuration\u001B[39m\u001B[38;5;124m\"\u001B[39m])\n\u001B[0;32m      3\u001B[0m \u001B[38;5;66;03m#salvataggio linear plot\u001B[39;00m\n\u001B[0;32m      4\u001B[0m plt\u001B[38;5;241m.\u001B[39msavefig(\u001B[38;5;124m'\u001B[39m\u001B[38;5;124mlinearPlot.png\u001B[39m\u001B[38;5;124m'\u001B[39m)\n",
      "\u001B[1;31mNameError\u001B[0m: name 'df' is not defined"
     ]
    }
   ],
   "source": [
    "#Data plot su un sottoinsieme preso in esame\n",
    "sb.pairplot(df,x_vars=[\"Age\",\"Gender\", \"MotionSickness\", \"ImmersionLevel\"], y_vars=[\"Duration\"])\n",
    "#salvataggio linear plot\n",
    "plt.savefig('linearPlot.png')"
   ]
  },
  {
   "cell_type": "code",
   "execution_count": null,
   "metadata": {
    "colab": {
     "base_uri": "https://localhost:8080/",
     "height": 908
    },
    "id": "PV-Zn9QMH9Bc",
    "outputId": "e36a31b3-657a-4580-935a-38fd7349a2bc",
    "ExecuteTime": {
     "start_time": "2024-02-18T23:12:03.851003Z"
    }
   },
   "outputs": [],
   "source": [
    "#correlazione tra le variabili\n",
    "sb.heatmap(df.corr(), annot=True, cmap=\"RdYlGn\", square=True)"
   ]
  },
  {
   "cell_type": "markdown",
   "metadata": {
    "id": "oTe3HvpZGF6G"
   },
   "source": [
    "## 2)Divisione in Training e Test Sets, Feature Selection"
   ]
  },
  {
   "cell_type": "markdown",
   "metadata": {
    "id": "9thKrnA4xyD-"
   },
   "source": [
    "###2.1) Definizione classe Metrics"
   ]
  },
  {
   "cell_type": "code",
   "execution_count": null,
   "metadata": {
    "id": "OjeZwffhx1hC",
    "ExecuteTime": {
     "start_time": "2024-02-18T23:12:03.855537900Z"
    }
   },
   "outputs": [],
   "source": [
    "#oggetto che contiene le metriche\n",
    "class Metrics1:\n",
    "  #costruttore\n",
    "  def __init__(self,mae,mse,rmse):\n",
    "    self.mae=mae\n",
    "    self.mse=mse\n",
    "    self.rmse=rmse\n",
    "\n",
    "  #ToString\n",
    "  def __str__(self):\n",
    "    return f'Metrics [mae= {self.mae} mse= {self.mse} rmse= {self.rmse} mean= {np.mean([self.mae,self.mse,self.rmse])}'"
   ]
  },
  {
   "cell_type": "markdown",
   "metadata": {
    "id": "PHdBN6j3x6RH"
   },
   "source": [
    "###2.2) Definizione classe MetricsResultContainer"
   ]
  },
  {
   "cell_type": "code",
   "execution_count": null,
   "metadata": {
    "id": "e2rd8zf0x5dl",
    "ExecuteTime": {
     "start_time": "2024-02-18T23:12:03.858512100Z"
    }
   },
   "outputs": [],
   "source": [
    "#classe per contenere risultato delle metriche\n",
    "class MetricsResultContainer:\n",
    "  meanMAE = []\n",
    "  meanMSE = []\n",
    "  meanRMSE = []\n",
    "  #costruttore\n",
    "  def __init__(self,model,alg,scaler,param,metricsMean):\n",
    "    self.model=model\n",
    "    self.alg=alg\n",
    "    self.scaler=scaler\n",
    "    self.param=param\n",
    "    self.metricsMean=metricsMean\n",
    "    self.meanMAE = []\n",
    "    self.meanMSE = []\n",
    "    self.meanRMSE = []\n",
    "  #funzione per stampare metriche\n",
    "  def printMetrics(self):\n",
    "    for m in self.metricsMean:\n",
    "      self.meanMAE.append(m.mae)\n",
    "      self.meanMSE.append(m.mse)\n",
    "      self.meanRMSE.append(m.rmse)\n",
    "    print(\"meanMAE=\",np.mean(self.meanMAE))\n",
    "    print(\"meanMSE=\",np.mean(self.meanMSE))\n",
    "    print(\"meanRMSE=\",np.mean(self.meanRMSE))"
   ]
  },
  {
   "cell_type": "markdown",
   "metadata": {
    "id": "M8VfR693GTpj"
   },
   "source": [
    "### 2.3) Istanziazione funzioni per Regressione"
   ]
  },
  {
   "cell_type": "code",
   "execution_count": 11,
   "metadata": {
    "id": "H1iGcW0wG1PQ",
    "ExecuteTime": {
     "start_time": "2024-02-18T23:12:03.871508900Z"
    }
   },
   "outputs": [
    {
     "ename": "NameError",
     "evalue": "name 'df' is not defined",
     "output_type": "error",
     "traceback": [
      "\u001B[1;31m---------------------------------------------------------------------------\u001B[0m",
      "\u001B[1;31mNameError\u001B[0m                                 Traceback (most recent call last)",
      "Cell \u001B[1;32mIn[11], line 53\u001B[0m\n\u001B[0;32m     50\u001B[0m   \u001B[38;5;28;01mreturn\u001B[39;00m metrics1\n\u001B[0;32m     52\u001B[0m \u001B[38;5;66;03m#Scelta variabile dipendente (y) e indipendenti (X)\u001B[39;00m\n\u001B[1;32m---> 53\u001B[0m X\u001B[38;5;241m=\u001B[39mdf\u001B[38;5;241m.\u001B[39mdrop(columns\u001B[38;5;241m=\u001B[39m[\u001B[38;5;124m'\u001B[39m\u001B[38;5;124mDuration\u001B[39m\u001B[38;5;124m'\u001B[39m,\u001B[38;5;124m'\u001B[39m\u001B[38;5;124mVRHeadset\u001B[39m\u001B[38;5;124m'\u001B[39m,\u001B[38;5;124m\"\u001B[39m\u001B[38;5;124mUserID\u001B[39m\u001B[38;5;124m\"\u001B[39m])\n\u001B[0;32m     54\u001B[0m y\u001B[38;5;241m=\u001B[39mdf\u001B[38;5;241m.\u001B[39mDuration\n\u001B[0;32m     55\u001B[0m \u001B[38;5;66;03m#numero record nel dataset\u001B[39;00m\n",
      "\u001B[1;31mNameError\u001B[0m: name 'df' is not defined"
     ]
    }
   ],
   "source": [
    "import copy\n",
    "import matplotlib.pyplot as plt\n",
    "import numpy as np\n",
    "import statsmodels.api as sm\n",
    "\n",
    "from sklearn import metrics\n",
    "from sklearn.datasets import load_iris\n",
    "from sklearn.feature_selection import VarianceThreshold, SelectKBest, chi2, f_regression\n",
    "from sklearn.model_selection import RepeatedKFold, KFold\n",
    "from sklearn.preprocessing import StandardScaler,MinMaxScaler,RobustScaler\n",
    "from sklearn.base import clone\n",
    "\n",
    "from yellowbrick.regressor import ResidualsPlot\n",
    "from yellowbrick.base import Visualizer\n",
    "\n",
    "from statsmodels.stats.diagnostic import het_breuschpagan\n",
    "from statsmodels.compat import lzip\n",
    "\n",
    "from termcolor import colored as cl\n",
    "\n",
    "#funzione per generare il modello, divisione training e test, features scaling, selection\n",
    "def generateModel(alg, scaler, model, select):\n",
    "  #array di metriche (MAE,MSE,RMSE)\n",
    "  metrics1 = []\n",
    "  #generazione n_split test/trainig sets\n",
    "  #uso algoritmo per dividere i dati di raining da quelli di test\n",
    "  for train_index, test_index in alg.split(X,y):\n",
    "    clone_model = clone(model)\n",
    "    X_train, X_test = X.iloc[train_index], X.iloc[test_index]\n",
    "    y_train, y_test = y.iloc[train_index], y.iloc[test_index]\n",
    "    #feature scaling sui traing test\n",
    "    X_train_z = scaler.fit_transform(X_train)\n",
    "    X_test_z = scaler.transform(X_test)\n",
    "    #applicazione feature selection su train_z\n",
    "    X_train_z = select.fit_transform(X_train_z, y_train)\n",
    "    X_test_z = select.transform(X_test_z)\n",
    "\n",
    "    #training dell'algoritmo sui training set\n",
    "    clone_model.fit(X_train_z,y_train)\n",
    "    #validazione modello e applicazione predizione sui testSet\n",
    "    y_pred = clone_model.predict(X_test_z)\n",
    "    modelCopy = copy.copy(clone_model)\n",
    "    #calcolo metriche predizione\n",
    "    metrics1.append(\n",
    "        Metrics1(metrics.mean_absolute_error(y_test,y_pred),\n",
    "                 metrics.mean_squared_error(y_test,y_pred),\n",
    "                 np.sqrt(metrics.mean_squared_error(y_test,y_pred))\n",
    "                 )\n",
    "        )\n",
    "  return metrics1\n",
    "\n",
    "#Scelta variabile dipendente (y) e indipendenti (X)\n",
    "X=df.drop(columns=['Duration','VRHeadset',\"UserID\"])\n",
    "y=df.Duration\n",
    "#numero record nel dataset\n",
    "k=len(df)\n",
    "#calcolo k ideale da usare nelle tecniche di validazione deve essere il 30% della lunghezza del dataset\n",
    "k= (k/(k*0.3))\n",
    "#Kf divisione dataset per k gruppi per testare mediante due algoritmi Kfold-RepeateKFold\n",
    "kf = KFold(n_splits=int(np.ceil(k)),random_state=42, shuffle=True)\n",
    "#rKf con k gruppi, e 10 ripetizioni\n",
    "rkf = RepeatedKFold(n_splits=int(np.ceil(k)), n_repeats=100, random_state=42)\n",
    "#rkf con 3 gruppi e 10 ripetizioni per questioni  di utilizzo della ram messa a disposizione da google\n",
    "rkfRF = RepeatedKFold(n_splits=3, n_repeats=10, random_state=42)\n",
    "#instanziazione algritmo per selezione dei KBest individui\n",
    "select = SelectKBest(f_regression, k=4)\n",
    "#risultati: array di array di metriche\n",
    "metricsResults = []"
   ]
  },
  {
   "cell_type": "markdown",
   "metadata": {
    "id": "-nB_GO2FUIxR"
   },
   "source": [
    "## 3) Model Testing"
   ]
  },
  {
   "cell_type": "markdown",
   "metadata": {
    "id": "H1CkjG-YLFbj"
   },
   "source": [
    "### 3.1) Linear Regression"
   ]
  },
  {
   "cell_type": "code",
   "execution_count": null,
   "metadata": {
    "colab": {
     "base_uri": "https://localhost:8080/"
    },
    "id": "wYRKP2rKLLEm",
    "outputId": "af1d76a4-73b5-4008-a6d6-42e818450021",
    "ExecuteTime": {
     "start_time": "2024-02-18T23:12:03.908162400Z"
    }
   },
   "outputs": [],
   "source": [
    "from sklearn.linear_model import LinearRegression\n",
    "#Linear Regression\n",
    "#stampa le metriche uscenti dall'algoritmo utilizzato ovvero ZScore e KFold\n",
    "print(\"Linear Regression - ZScore Normalization - KF\")\n",
    "m = MetricsResultContainer(\"Linear Regression\",\"KF\",\"ZScore\",\"Default\",\n",
    "  generateModel(kf, StandardScaler(),  LinearRegression(), select)\n",
    ")\n",
    "metricsResults.append(m)\n",
    "m.printMetrics()\n",
    "#stampa le metriche uscenti dall'algoritmo utilizzato ovvero ZScore e RKFold\n",
    "print(\"\\nLinear Regression - ZScore Normalization - RKF\")\n",
    "m = MetricsResultContainer(\"Linear Regression\",\"RKF\",\"ZScore\",\"Default\",\n",
    "  generateModel(rkf, StandardScaler(),  LinearRegression(), select)\n",
    ")\n",
    "metricsResults.append(m)\n",
    "m.printMetrics()\n",
    "#stampa le metriche uscenti dall'algoritmo utilizzato ovvero Minimax e KFold\n",
    "print(\"\\nLinear Regression - MinMax Normalization - KF\")\n",
    "m = MetricsResultContainer(\"Linear Regression\",\"KF\",\"MinMax\",\"Default\",\n",
    "  generateModel(kf, MinMaxScaler(),  LinearRegression(), select)\n",
    ")\n",
    "metricsResults.append(m)\n",
    "m.printMetrics()\n",
    "#stampa le metriche uscenti dall'algoritmo utilizzato ovvero Minmax e RKFold\n",
    "print(\"\\nLinear Regression - MinMax Normalization - RKF\")\n",
    "m = MetricsResultContainer(\"Linear Regression\",\"RKF\",\"MinMax\",\"Default\",\n",
    "  generateModel(rkf, MinMaxScaler(),  LinearRegression(), select)\n",
    ")\n",
    "metricsResults.append(m)\n",
    "m.printMetrics()\n",
    "#stampa le metriche uscenti dall'algoritmo utilizzato ovvero RobustScaler e KFold\n",
    "print(\"\\nLinear Regression - RobustScaler Normalization - KF\")\n",
    "m = MetricsResultContainer(\"Linear Regression\",\"KF\",\"RobustScaler\",\"Default\",\n",
    "  generateModel(kf, RobustScaler(),  LinearRegression(), select)\n",
    ")\n",
    "metricsResults.append(m)\n",
    "m.printMetrics()\n",
    "#stampa le metriche uscenti dall'algoritmo utilizzato ovvero RobustScaler e RKFold\n",
    "print(\"\\nLinear Regression - RobustScaler Normalization - RKF\")\n",
    "m = MetricsResultContainer(\"Linear Regression\",\"RKF\",\"RobustScaler\",\"Default\",\n",
    "  generateModel(rkf, RobustScaler(), LinearRegression(), select)\n",
    ")\n",
    "metricsResults.append(m)\n",
    "m.printMetrics()"
   ]
  },
  {
   "cell_type": "markdown",
   "metadata": {
    "id": "4h-T7j4fHnOQ"
   },
   "source": [
    "### 3.2) DecisionTree Regression"
   ]
  },
  {
   "cell_type": "code",
   "execution_count": null,
   "metadata": {
    "colab": {
     "base_uri": "https://localhost:8080/"
    },
    "id": "HI1rrpw5ICWr",
    "outputId": "4b063c59-66e4-4518-d8fb-745e292ab9bc",
    "ExecuteTime": {
     "start_time": "2024-02-18T23:12:03.913148400Z"
    }
   },
   "outputs": [],
   "source": [
    "#utilizziamo DecisionTree Regression\n",
    "from sklearn.tree import DecisionTreeRegressor\n",
    "print(\"DecisionTreeRegressor - ZScore Normalization - KF\")\n",
    "m = MetricsResultContainer(\"DecisionTree Regression\",\"KF\",\"ZScore\",\"Default\",\n",
    "  generateModel(kf, StandardScaler(),  DecisionTreeRegressor(), select)\n",
    ")\n",
    "metricsResults.append(m)\n",
    "#stampa le metriche uscenti dall'algoritmo utilizzato ovvero ZScore e KFold\n",
    "m.printMetrics()\n",
    "\n",
    "print(\"\\nDecisionTreeRegressor - ZScore Normalization - RKF\")\n",
    "m = MetricsResultContainer(\"DecisionTree Regression\",\"RKF\",\"ZScore\",\"Default\",\n",
    "  generateModel(rkf, StandardScaler(),  DecisionTreeRegressor(), select)\n",
    ")\n",
    "metricsResults.append(m)\n",
    "#stampa le metriche uscenti dall'algoritmo utilizzato ovvero ZScore e RKFold\n",
    "m.printMetrics()\n",
    "\n",
    "print(\"\\nDecisionTreeRegressor - MinMax Normalization - KF\")\n",
    "m = MetricsResultContainer(\"DecisionTree Regression\",\"KF\",\"MinMax\",\"Default\",\n",
    "  generateModel(kf, MinMaxScaler(),  DecisionTreeRegressor(), select)\n",
    ")\n",
    "metricsResults.append(m)\n",
    "#stampa le metriche uscenti dall'algoritmo utilizzato ovvero Minimax e KFold\n",
    "m.printMetrics()\n",
    "\n",
    "print(\"\\nDecisionTreeRegressor - MinMax Normalization - RKF\")\n",
    "m = MetricsResultContainer(\"DecisionTree Regression\",\"RKF\",\"MinMax\",\"Default\",\n",
    "  generateModel(rkf, MinMaxScaler(),  DecisionTreeRegressor(), select)\n",
    ")\n",
    "metricsResults.append(m)\n",
    "#stampa le metriche uscenti dall'algoritmo utilizzato ovvero Minmax e RKFold\n",
    "m.printMetrics()\n",
    "\n",
    "print(\"\\nDecisionTreeRegressor - RobustScaler Normalization - KF\")\n",
    "m = MetricsResultContainer(\"DecisionTree Regression\",\"KF\",\"Robust\",\"Default\",\n",
    "  generateModel(kf, RobustScaler(),  DecisionTreeRegressor(), select)\n",
    ")\n",
    "metricsResults.append(m)\n",
    "#stampa le metriche uscenti dall'algoritmo utilizzato ovvero RobustScaler e KFold\n",
    "m.printMetrics()\n",
    "\n",
    "print(\"\\nDecisionTreeRegressor - RobustScaler Normalization - RKF\")\n",
    "m = MetricsResultContainer(\"DecisionTree Regression\",\"RKF\",\"Robust\",\"Default\",\n",
    "  generateModel(rkf, RobustScaler(), DecisionTreeRegressor(), select)\n",
    ")\n",
    "metricsResults.append(m)\n",
    "#stampa le metriche uscenti dall'algoritmo utilizzato ovvero RobustScaler e RKFold\n",
    "m.printMetrics()"
   ]
  },
  {
   "cell_type": "markdown",
   "metadata": {
    "id": "q_3cFAQdL4AW"
   },
   "source": [
    "### 3.3) Lasso Regression"
   ]
  },
  {
   "cell_type": "code",
   "execution_count": null,
   "metadata": {
    "colab": {
     "base_uri": "https://localhost:8080/"
    },
    "id": "cRrav5lWL8X4",
    "outputId": "b15f3f9d-0387-476d-cd3d-fe81f03276c7",
    "ExecuteTime": {
     "start_time": "2024-02-18T23:12:03.917148500Z"
    }
   },
   "outputs": [],
   "source": [
    "#Utilizzo Lasso regression\n",
    "from sklearn import linear_model\n",
    "lassoReg = linear_model.Lasso()\n",
    "print(\"Lasso Regression - ZScore Normalization - KF\")\n",
    "m = MetricsResultContainer(\"Lasso Regression\",\"KF\",\"ZScore\",\"Default\",\n",
    "  generateModel(kf, StandardScaler(),  lassoReg, select)\n",
    ")\n",
    "metricsResults.append(m)\n",
    "m.printMetrics()\n",
    "\n",
    "print(\"\\nLasso Regression - ZScore Normalization - RKF\")\n",
    "m = MetricsResultContainer(\"Lasso Regression\",\"RKF\",\"ZScore\",\"Default\",\n",
    "  generateModel(rkfRF, StandardScaler(),  lassoReg, select)\n",
    ")\n",
    "metricsResults.append(m)\n",
    "m.printMetrics()\n",
    "\n",
    "print(\"\\nLasso Regression - MinMax Normalization - KF\")\n",
    "m = MetricsResultContainer(\"Lasso Regression\",\"KF\",\"MinMax\",\"Default\",\n",
    "  generateModel(kf, MinMaxScaler(),  lassoReg, select)\n",
    ")\n",
    "metricsResults.append(m)\n",
    "m.printMetrics()\n",
    "\n",
    "print(\"\\nLasso Regression - MinMax Normalization - RKF\")\n",
    "m = MetricsResultContainer(\"Lasso Regression\",\"RKF\",\"MinMax\",\"Default\",\n",
    "  generateModel(rkfRF, MinMaxScaler(),  lassoReg, select)\n",
    ")\n",
    "metricsResults.append(m)\n",
    "m.printMetrics()\n",
    "\n",
    "print(\"\\nLasso Regression - RobustScaler Normalization - KF\")\n",
    "m = MetricsResultContainer(\"Lasso Regression\",\"KF\",\"Robust\",\"Default\",\n",
    "  generateModel(kf, RobustScaler(),  lassoReg, select)\n",
    ")\n",
    "metricsResults.append(m)\n",
    "m.printMetrics()\n",
    "\n",
    "print(\"\\nLasso Regression - RobustScaler Normalization - RKF\")\n",
    "m = MetricsResultContainer(\"Lasso Regression\",\"RKF\",\"Robust\",\"Default\",\n",
    "  generateModel(rkfRF, RobustScaler(), lassoReg, select)\n",
    ")\n",
    "metricsResults.append(m)\n",
    "m.printMetrics()\n"
   ]
  },
  {
   "cell_type": "markdown",
   "metadata": {
    "id": "L1cnA16QQRdx"
   },
   "source": [
    "### 3.4) Ridge Regression"
   ]
  },
  {
   "cell_type": "code",
   "execution_count": 12,
   "metadata": {
    "colab": {
     "base_uri": "https://localhost:8080/"
    },
    "id": "PBJSIQkxQftD",
    "outputId": "4ca84184-77a8-4b1b-cb34-165b5760a13d",
    "ExecuteTime": {
     "start_time": "2024-02-18T23:12:03.926270600Z"
    }
   },
   "outputs": [
    {
     "name": "stdout",
     "output_type": "stream",
     "text": [
      "Ridge Regression - ZScore Normalization - KF\n"
     ]
    },
    {
     "ename": "NameError",
     "evalue": "name 'kf' is not defined",
     "output_type": "error",
     "traceback": [
      "\u001B[1;31m---------------------------------------------------------------------------\u001B[0m",
      "\u001B[1;31mNameError\u001B[0m                                 Traceback (most recent call last)",
      "Cell \u001B[1;32mIn[12], line 7\u001B[0m\n\u001B[0;32m      4\u001B[0m \u001B[38;5;28mprint\u001B[39m(\u001B[38;5;124m\"\u001B[39m\u001B[38;5;124mRidge Regression - ZScore Normalization - KF\u001B[39m\u001B[38;5;124m\"\u001B[39m)\n\u001B[0;32m      5\u001B[0m \u001B[38;5;66;03m#stampa le metriche uscenti dall'algoritmo utilizzato ovvero ZScore e KFold\u001B[39;00m\n\u001B[0;32m      6\u001B[0m m \u001B[38;5;241m=\u001B[39m MetricsResultContainer(\u001B[38;5;124m\"\u001B[39m\u001B[38;5;124mRidge Regression\u001B[39m\u001B[38;5;124m\"\u001B[39m,\u001B[38;5;124m\"\u001B[39m\u001B[38;5;124mKF\u001B[39m\u001B[38;5;124m\"\u001B[39m,\u001B[38;5;124m\"\u001B[39m\u001B[38;5;124mZScore\u001B[39m\u001B[38;5;124m\"\u001B[39m,\u001B[38;5;124m\"\u001B[39m\u001B[38;5;124mDefault\u001B[39m\u001B[38;5;124m\"\u001B[39m,\n\u001B[1;32m----> 7\u001B[0m   generateModel(kf, StandardScaler(),  bridgeReg, select)\n\u001B[0;32m      8\u001B[0m )\n\u001B[0;32m      9\u001B[0m metricsResults\u001B[38;5;241m.\u001B[39mappend(m)\n\u001B[0;32m     10\u001B[0m m\u001B[38;5;241m.\u001B[39mprintMetrics()\n",
      "\u001B[1;31mNameError\u001B[0m: name 'kf' is not defined"
     ]
    }
   ],
   "source": [
    "#Utilizzo Ridge Regression\n",
    "from sklearn import linear_model\n",
    "bridgeReg = linear_model.Ridge()\n",
    "print(\"Ridge Regression - ZScore Normalization - KF\")\n",
    "#stampa le metriche uscenti dall'algoritmo utilizzato ovvero ZScore e KFold\n",
    "m = MetricsResultContainer(\"Ridge Regression\",\"KF\",\"ZScore\",\"Default\",\n",
    "  generateModel(kf, StandardScaler(),  bridgeReg, select)\n",
    ")\n",
    "metricsResults.append(m)\n",
    "m.printMetrics()\n",
    "\n",
    "\n",
    "print(\"\\nRidge Regression - ZScore Normalization - RKF\")\n",
    "m = MetricsResultContainer(\"Ridge Regression\",\"RKF\",\"ZScore\",\"Default\",\n",
    "  generateModel(rkfRF, StandardScaler(),  bridgeReg, select)\n",
    ")\n",
    "metricsResults.append(m)\n",
    "m.printMetrics()\n",
    "\n",
    "print(\"\\nRidge Regression - MinMax Normalization - KF\")\n",
    "m = MetricsResultContainer(\"Ridge Regression\",\"KF\",\"MinMax\",\"Default\",\n",
    "  generateModel(kf, MinMaxScaler(),  bridgeReg, select)\n",
    ")\n",
    "metricsResults.append(m)\n",
    "m.printMetrics()\n",
    "\n",
    "print(\"\\nRidge Regression - MinMax Normalization - RKF\")\n",
    "m = MetricsResultContainer(\"Ridge Regression\",\"RKF\",\"MinMax\",\"Default\",\n",
    "  generateModel(rkfRF, MinMaxScaler(),  bridgeReg, select)\n",
    ")\n",
    "metricsResults.append(m)\n",
    "m.printMetrics()\n",
    "\n",
    "print(\"\\nRidge Regression - RobustScaler Normalization - KF\")\n",
    "m = MetricsResultContainer(\"Ridge Regression\",\"KF\",\"Robust\",\"Default\",\n",
    "  generateModel(kf, RobustScaler(),  bridgeReg, select)\n",
    ")\n",
    "metricsResults.append(m)\n",
    "m.printMetrics()\n",
    "\n",
    "print(\"\\nRidge Regression - RobustScaler Normalization - RKF\")\n",
    "m = MetricsResultContainer(\"Ridge Regression\",\"RKF\",\"Robust\",\"Default\",\n",
    "  generateModel(rkfRF, RobustScaler(), bridgeReg, select)\n",
    ")\n",
    "metricsResults.append(m)\n",
    "m.printMetrics()\n"
   ]
  },
  {
   "cell_type": "markdown",
   "metadata": {
    "id": "RpYeGwGVKehF"
   },
   "source": [
    "### 3.5) Random Forest Regression"
   ]
  },
  {
   "cell_type": "code",
   "execution_count": null,
   "metadata": {
    "colab": {
     "base_uri": "https://localhost:8080/"
    },
    "id": "FLqqvLGXKpMt",
    "outputId": "99ccf6a4-4e16-49b0-ac3a-359059bfef1f",
    "ExecuteTime": {
     "start_time": "2024-02-18T23:12:03.975767500Z"
    }
   },
   "outputs": [],
   "source": [
    "#Utilizzo Foresta regression\n",
    "from sklearn.ensemble import RandomForestRegressor\n",
    "\n",
    "print(\"RandomForestRegressor - ZScore Normalization - KF\")\n",
    "m = MetricsResultContainer(\"RandomForest Regression\",\"KF\",\"Robust\",\"Default\",\n",
    "  generateModel(kf, StandardScaler(),  RandomForestRegressor(), select)\n",
    ")\n",
    "metricsResults.append(m)\n",
    "m.printMetrics()\n",
    "\n",
    "print(\"\\nRandomForestRegressor - ZScore Normalization - RKF\")\n",
    "m = MetricsResultContainer(\"RandomForest Regression\",\"RKF\",\"Robust\",\"Default\",\n",
    "  generateModel(rkfRF, StandardScaler(),  RandomForestRegressor(), select)\n",
    ")\n",
    "metricsResults.append(m)\n",
    "m.printMetrics()\n",
    "\n",
    "print(\"\\nRandomForestRegressor - MinMax Normalization - KF\")\n",
    "m = MetricsResultContainer(\"RandomForest Regression\",\"KF\",\"MinMax\",\"Default\",\n",
    "  generateModel(kf, MinMaxScaler(),  RandomForestRegressor(), select)\n",
    ")\n",
    "metricsResults.append(m)\n",
    "m.printMetrics()\n",
    "\n",
    "print(\"\\nRandomForestRegressor- MinMax Normalization - RKF\")\n",
    "m = MetricsResultContainer(\"RandomForest Regression\",\"RKF\",\"MinMax\",\"Default\",\n",
    "  generateModel(rkfRF, MinMaxScaler(),  RandomForestRegressor(), select)\n",
    ")\n",
    "metricsResults.append(m)\n",
    "m.printMetrics()\n",
    "\n",
    "print(\"\\nRandomForestRegressor - RobustScaler Normalization - KF\")\n",
    "m = MetricsResultContainer(\"RandomForest Regression\",\"KF\",\"Robust\",\"Default\",\n",
    "  generateModel(kf, RobustScaler(),  RandomForestRegressor(), select)\n",
    ")\n",
    "metricsResults.append(m)\n",
    "m.printMetrics()\n",
    "\n",
    "print(\"\\nRandomForestRegressor - RobustScaler Normalization - RKF\")\n",
    "m = MetricsResultContainer(\"RandomForest Regression\",\"RKF\",\"Robust\",\"Default\",\n",
    "  generateModel(rkfRF, RobustScaler(), RandomForestRegressor(), select)\n",
    ")\n",
    "metricsResults.append(m)\n",
    "m.printMetrics()"
   ]
  },
  {
   "cell_type": "markdown",
   "metadata": {
    "id": "y8L4TLJ6cYXS"
   },
   "source": [
    "### 3.6) SVR Regression"
   ]
  },
  {
   "cell_type": "code",
   "execution_count": null,
   "metadata": {
    "colab": {
     "base_uri": "https://localhost:8080/"
    },
    "id": "e1p1CwVQcigM",
    "outputId": "f5b76f1d-89c6-4852-dcc7-340e2adf84ca",
    "ExecuteTime": {
     "start_time": "2024-02-18T23:12:03.980677400Z"
    }
   },
   "outputs": [],
   "source": [
    "#Utilizzo SVR Regression\n",
    "from sklearn.svm import SVR\n",
    "print(\"SVR - ZScore Normalization - KF\")\n",
    "m = MetricsResultContainer(\"SVR Regression\",\"KF\",\"ZScore\",\"Default\",\n",
    "  generateModel(kf, StandardScaler(),  SVR(), select)\n",
    ")\n",
    "metricsResults.append(m)\n",
    "m.printMetrics()\n",
    "\n",
    "print(\"\\nSVR - ZScore Normalization - RKF\")\n",
    "m = MetricsResultContainer(\"SVR Regression\",\"RKF\",\"ZScore\",\"Default\",\n",
    "  generateModel(rkfRF, StandardScaler(),  SVR(), select)\n",
    ")\n",
    "metricsResults.append(m)\n",
    "m.printMetrics()\n",
    "\n",
    "print(\"\\nSVR - MinMax Normalization - KF\")\n",
    "m = MetricsResultContainer(\"SVR Regression\",\"KF\",\"MinMax\",\"Default\",\n",
    "  generateModel(kf, MinMaxScaler(),  SVR(), select)\n",
    ")\n",
    "metricsResults.append(m)\n",
    "m.printMetrics()\n",
    "\n",
    "print(\"\\nSVR- MinMax Normalization - RKF\")\n",
    "m = MetricsResultContainer(\"SVR Regression\",\"RKF\",\"MinMax\",\"Default\",\n",
    "  generateModel(rkfRF, MinMaxScaler(),  SVR(), select)\n",
    ")\n",
    "metricsResults.append(m)\n",
    "m.printMetrics()\n",
    "\n",
    "print(\"\\nSVR - RobustScaler Normalization - KF\")\n",
    "m = MetricsResultContainer(\"SVR Regression\",\"KF\",\"Robust\",\"Default\",\n",
    "  generateModel(kf, RobustScaler(),  SVR(), select)\n",
    ")\n",
    "metricsResults.append(m)\n",
    "m.printMetrics()\n",
    "\n",
    "print(\"\\nSVR - RobustScaler Normalization - RKF\")\n",
    "m = MetricsResultContainer(\"SVR Regression\",\"RKF\",\"Robust\",\"Default\",\n",
    "  generateModel(rkfRF, RobustScaler(), SVR(), select)\n",
    ")\n",
    "metricsResults.append(m)\n",
    "m.printMetrics()"
   ]
  },
  {
   "cell_type": "markdown",
   "metadata": {
    "id": "L02gSgnB_Xtq"
   },
   "source": []
  },
  {
   "cell_type": "markdown",
   "metadata": {
    "id": "97HTdNJ_lLim"
   },
   "source": [
    "## 4) Creazione pipeline di machine learning"
   ]
  },
  {
   "cell_type": "code",
   "execution_count": null,
   "metadata": {
    "colab": {
     "base_uri": "https://localhost:8080/"
    },
    "id": "U6Dw7iRJlTCG",
    "outputId": "913cdbdd-cb7d-447f-99ac-18fa5dbaddbc",
    "ExecuteTime": {
     "start_time": "2024-02-18T23:12:03.985606600Z"
    }
   },
   "outputs": [],
   "source": [
    "!pip install sklearn2pmml"
   ]
  },
  {
   "cell_type": "code",
   "execution_count": null,
   "metadata": {
    "id": "UI4JopEMlq0D",
    "ExecuteTime": {
     "start_time": "2024-02-18T23:12:03.989022800Z"
    }
   },
   "outputs": [],
   "source": [
    "from sklearn2pmml.pipeline import PMMLPipeline\n",
    "from sklearn2pmml import sklearn2pmml\n",
    "#creazione pipeline del modello più performante\n",
    "#RandomForestRegression\n",
    "pipeline = PMMLPipeline([(\"Regression\", RobustScaler())])\n",
    "pipeline.fit(X,y)\n",
    "#estrazione pipiline in file .pmml\n",
    "sklearn2pmml(pipeline, \"RegressoreDurataMeeting.pmml\", with_repr = True)"
   ]
  }
 ],
 "metadata": {
  "accelerator": "GPU",
  "colab": {
   "provenance": []
  },
  "kernelspec": {
   "display_name": "Python 3 (ipykernel)",
   "language": "python",
   "name": "python3"
  },
  "language_info": {
   "codemirror_mode": {
    "name": "ipython",
    "version": 3
   },
   "file_extension": ".py",
   "mimetype": "text/x-python",
   "name": "python",
   "nbconvert_exporter": "python",
   "pygments_lexer": "ipython3",
   "version": "3.11.5"
  }
 },
 "nbformat": 4,
 "nbformat_minor": 1
}
